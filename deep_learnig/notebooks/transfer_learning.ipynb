{
  "cells": [
    {
      "cell_type": "code",
      "execution_count": 1,
      "metadata": {
        "id": "1XkrNZ1kEtdB"
      },
      "outputs": [
        {
          "name": "stderr",
          "output_type": "stream",
          "text": [
            "2024-03-17 07:40:48.976842: I tensorflow/core/platform/cpu_feature_guard.cc:210] This TensorFlow binary is optimized to use available CPU instructions in performance-critical operations.\n",
            "To enable the following instructions: AVX2 FMA, in other operations, rebuild TensorFlow with the appropriate compiler flags.\n"
          ]
        }
      ],
      "source": [
        "import numpy as np\n",
        "import tensorflow as tf\n",
        "import keras\n",
        "import time\n",
        "from keras import layers\n",
        "from tensorflow.keras.applications import EfficientNetB0"
      ]
    },
    {
      "cell_type": "markdown",
      "metadata": {
        "id": "RZw8BnAPHT8A"
      },
      "source": [
        "## Load data"
      ]
    },
    {
      "cell_type": "code",
      "execution_count": 2,
      "metadata": {
        "colab": {
          "base_uri": "https://localhost:8080/"
        },
        "id": "956GUUsBFCmY",
        "outputId": "cd2911bf-226d-4ffc-ac2f-bef7341c360a"
      },
      "outputs": [
        {
          "name": "stdout",
          "output_type": "stream",
          "text": [
            "Shape of datain_tr: (50000, 32, 32, 3)\n",
            "Shape of datain_te: (10000, 32, 32, 3)\n",
            "Shape of dataou_tr: (50000, 10)\n",
            "Shape of dataou_te: (10000, 10)\n"
          ]
        }
      ],
      "source": [
        "(datain_tr, dataout_tr), (datain_te, dataout_te) = tf.keras.datasets.cifar10.load_data()\n",
        "\n",
        "dataout_tr = keras.utils.to_categorical(dataout_tr)\n",
        "dataout_te = keras.utils.to_categorical(dataout_te)\n",
        "\n",
        "print('Shape of datain_tr: {}'.format(datain_tr.shape))\n",
        "print('Shape of datain_te: {}'.format(datain_te.shape))\n",
        "print('Shape of dataou_tr: {}'.format(dataout_tr.shape))\n",
        "print('Shape of dataou_te: {}'.format(dataout_te.shape))\n",
        "\n",
        "CIFAR_IMG_SHAPE = (32, 32, 3)\n",
        "IMG_SIZE = 224\n",
        "BATCH_SIZE = 64\n"
      ]
    },
    {
      "cell_type": "markdown",
      "metadata": {
        "id": "u-N91alTHbiA"
      },
      "source": [
        "## Define some input and output layers"
      ]
    },
    {
      "cell_type": "code",
      "execution_count": 3,
      "metadata": {
        "id": "rEJ0hUXgHhbV"
      },
      "outputs": [],
      "source": [
        "# Input layer\n",
        "layerin = layers.Input(\n",
        "    shape=CIFAR_IMG_SHAPE\n",
        ")\n",
        "\n",
        "# Upscaling layer (we can also upscale the images before)\n",
        "# EfficientNetB0 use 224x224x3 images\n",
        "upscale = layers.Lambda(\n",
        "    lambda x: tf.image.resize_with_pad(\n",
        "        x,\n",
        "        IMG_SIZE,\n",
        "        IMG_SIZE,\n",
        "        method=tf.image.ResizeMethod.BILINEAR\n",
        "    )\n",
        ")(layerin)\n",
        "\n",
        "# Output layer. Dense with 10 classes\n",
        "layerout = layers.Dense(dataout_tr.shape[-1], activation='softmax')\n"
      ]
    },
    {
      "cell_type": "markdown",
      "metadata": {
        "id": "Ds8bO9qVKuPM"
      },
      "source": [
        "## Fine-Tuning without Transfer Learning"
      ]
    },
    {
      "cell_type": "code",
      "execution_count": 4,
      "metadata": {
        "id": "KZ-XmkwXKfNN"
      },
      "outputs": [
        {
          "name": "stderr",
          "output_type": "stream",
          "text": [
            "2024-03-17 07:40:55.674384: I tensorflow/core/common_runtime/gpu/gpu_device.cc:1928] Created device /job:localhost/replica:0/task:0/device:GPU:0 with 4453 MB memory:  -> device: 0, name: NVIDIA GeForce GTX 1660, pci bus id: 0000:29:00.0, compute capability: 7.5\n"
          ]
        }
      ],
      "source": [
        "# Model definition\n",
        "model_base = EfficientNetB0(\n",
        "    include_top=False,\n",
        "    weights=None,\n",
        "    input_shape=CIFAR_IMG_SHAPE,\n",
        "    input_tensor = upscale,\n",
        "    pooling='max'\n",
        ")\n",
        "\n",
        "model = keras.models.Sequential([\n",
        "    model_base,\n",
        "    layerout\n",
        "])"
      ]
    },
    {
      "cell_type": "code",
      "execution_count": 5,
      "metadata": {
        "colab": {
          "base_uri": "https://localhost:8080/"
        },
        "id": "6a1tO8BmLxeB",
        "outputId": "6824b12c-9bcf-45c3-ebd4-c5a2328fc65f"
      },
      "outputs": [
        {
          "data": {
            "text/html": [
              "<pre style=\"white-space:pre;overflow-x:auto;line-height:normal;font-family:Menlo,'DejaVu Sans Mono',consolas,'Courier New',monospace\"><span style=\"font-weight: bold\">Model: \"sequential\"</span>\n",
              "</pre>\n"
            ],
            "text/plain": [
              "\u001b[1mModel: \"sequential\"\u001b[0m\n"
            ]
          },
          "metadata": {},
          "output_type": "display_data"
        },
        {
          "data": {
            "text/html": [
              "<pre style=\"white-space:pre;overflow-x:auto;line-height:normal;font-family:Menlo,'DejaVu Sans Mono',consolas,'Courier New',monospace\">┏━━━━━━━━━━━━━━━━━━━━━━━━━━━━━━━━━┳━━━━━━━━━━━━━━━━━━━━━━━━┳━━━━━━━━━━━━━━━┓\n",
              "┃<span style=\"font-weight: bold\"> Layer (type)                    </span>┃<span style=\"font-weight: bold\"> Output Shape           </span>┃<span style=\"font-weight: bold\">       Param # </span>┃\n",
              "┡━━━━━━━━━━━━━━━━━━━━━━━━━━━━━━━━━╇━━━━━━━━━━━━━━━━━━━━━━━━╇━━━━━━━━━━━━━━━┩\n",
              "│ efficientnetb0 (<span style=\"color: #0087ff; text-decoration-color: #0087ff\">Functional</span>)     │ ?                      │     <span style=\"color: #00af00; text-decoration-color: #00af00\">4,049,571</span> │\n",
              "├─────────────────────────────────┼────────────────────────┼───────────────┤\n",
              "│ dense (<span style=\"color: #0087ff; text-decoration-color: #0087ff\">Dense</span>)                   │ ?                      │   <span style=\"color: #00af00; text-decoration-color: #00af00\">0</span> (unbuilt) │\n",
              "└─────────────────────────────────┴────────────────────────┴───────────────┘\n",
              "</pre>\n"
            ],
            "text/plain": [
              "┏━━━━━━━━━━━━━━━━━━━━━━━━━━━━━━━━━┳━━━━━━━━━━━━━━━━━━━━━━━━┳━━━━━━━━━━━━━━━┓\n",
              "┃\u001b[1m \u001b[0m\u001b[1mLayer (type)                   \u001b[0m\u001b[1m \u001b[0m┃\u001b[1m \u001b[0m\u001b[1mOutput Shape          \u001b[0m\u001b[1m \u001b[0m┃\u001b[1m \u001b[0m\u001b[1m      Param #\u001b[0m\u001b[1m \u001b[0m┃\n",
              "┡━━━━━━━━━━━━━━━━━━━━━━━━━━━━━━━━━╇━━━━━━━━━━━━━━━━━━━━━━━━╇━━━━━━━━━━━━━━━┩\n",
              "│ efficientnetb0 (\u001b[38;5;33mFunctional\u001b[0m)     │ ?                      │     \u001b[38;5;34m4,049,571\u001b[0m │\n",
              "├─────────────────────────────────┼────────────────────────┼───────────────┤\n",
              "│ dense (\u001b[38;5;33mDense\u001b[0m)                   │ ?                      │   \u001b[38;5;34m0\u001b[0m (unbuilt) │\n",
              "└─────────────────────────────────┴────────────────────────┴───────────────┘\n"
            ]
          },
          "metadata": {},
          "output_type": "display_data"
        },
        {
          "data": {
            "text/html": [
              "<pre style=\"white-space:pre;overflow-x:auto;line-height:normal;font-family:Menlo,'DejaVu Sans Mono',consolas,'Courier New',monospace\"><span style=\"font-weight: bold\"> Total params: </span><span style=\"color: #00af00; text-decoration-color: #00af00\">4,049,571</span> (15.45 MB)\n",
              "</pre>\n"
            ],
            "text/plain": [
              "\u001b[1m Total params: \u001b[0m\u001b[38;5;34m4,049,571\u001b[0m (15.45 MB)\n"
            ]
          },
          "metadata": {},
          "output_type": "display_data"
        },
        {
          "data": {
            "text/html": [
              "<pre style=\"white-space:pre;overflow-x:auto;line-height:normal;font-family:Menlo,'DejaVu Sans Mono',consolas,'Courier New',monospace\"><span style=\"font-weight: bold\"> Trainable params: </span><span style=\"color: #00af00; text-decoration-color: #00af00\">4,007,548</span> (15.29 MB)\n",
              "</pre>\n"
            ],
            "text/plain": [
              "\u001b[1m Trainable params: \u001b[0m\u001b[38;5;34m4,007,548\u001b[0m (15.29 MB)\n"
            ]
          },
          "metadata": {},
          "output_type": "display_data"
        },
        {
          "data": {
            "text/html": [
              "<pre style=\"white-space:pre;overflow-x:auto;line-height:normal;font-family:Menlo,'DejaVu Sans Mono',consolas,'Courier New',monospace\"><span style=\"font-weight: bold\"> Non-trainable params: </span><span style=\"color: #00af00; text-decoration-color: #00af00\">42,023</span> (164.16 KB)\n",
              "</pre>\n"
            ],
            "text/plain": [
              "\u001b[1m Non-trainable params: \u001b[0m\u001b[38;5;34m42,023\u001b[0m (164.16 KB)\n"
            ]
          },
          "metadata": {},
          "output_type": "display_data"
        }
      ],
      "source": [
        "model.compile(\n",
        "    optimizer=keras.optimizers.Adam(),\n",
        "    loss=keras.losses.CategoricalCrossentropy(),\n",
        "    metrics=[\"accuracy\"]\n",
        ")\n",
        "model.summary()"
      ]
    },
    {
      "cell_type": "code",
      "execution_count": null,
      "metadata": {
        "colab": {
          "base_uri": "https://localhost:8080/"
        },
        "id": "ZlpIrEJOMXRk",
        "outputId": "9c263aa4-455f-4fad-d37f-5dd1ba1801e9"
      },
      "outputs": [
        {
          "name": "stdout",
          "output_type": "stream",
          "text": [
            "Epoch 1/5\n",
            "743/743 [==============================] - 408s 496ms/step - loss: 2.0244 - accuracy: 0.3290 - val_loss: 5.4570 - val_accuracy: 0.3756\n",
            "Epoch 2/5\n",
            "743/743 [==============================] - 366s 492ms/step - loss: 1.3072 - accuracy: 0.5536 - val_loss: 1.1229 - val_accuracy: 0.6292\n",
            "Epoch 3/5\n",
            "743/743 [==============================] - 365s 491ms/step - loss: 1.0071 - accuracy: 0.6672 - val_loss: 1.0771 - val_accuracy: 0.6684\n",
            "Epoch 4/5\n",
            "743/743 [==============================] - 366s 492ms/step - loss: 0.8419 - accuracy: 0.7263 - val_loss: 1.5352 - val_accuracy: 0.7420\n",
            "Epoch 5/5\n",
            "743/743 [==============================] - 366s 492ms/step - loss: 0.6888 - accuracy: 0.7816 - val_loss: 0.6621 - val_accuracy: 0.7880\n",
            "\n",
            "Fine tuning training time: 1901.44 sec\n"
          ]
        }
      ],
      "source": [
        "t_start = time.time()\n",
        "\n",
        "history = model.fit(datain_tr, dataout_tr, epochs = 5, batch_size = BATCH_SIZE,\n",
        "                    verbose = 1, shuffle = True, validation_split = 0.05)\n",
        "\n",
        "t_end   = time.time()\n",
        "\n",
        "t_fine_tuning = t_end - t_start"
      ]
    },
    {
      "cell_type": "code",
      "execution_count": null,
      "metadata": {},
      "outputs": [],
      "source": [
        "_, accuracy_te = model.evaluate(datain_te,\n",
        "                                dataout_te,\n",
        "                                batch_size = 128)\n",
        "\n",
        "print('\\nTotal Training time: {:06.2f} sec'.format(t_fine_tuning))\n",
        "print('\\nTesting accuracy: {:05.2f}%'.format(accuracy_te * 100))"
      ]
    },
    {
      "cell_type": "markdown",
      "metadata": {
        "id": "guUMvH4T1f9V"
      },
      "source": [
        "## Transfer Learning with Fine-Tuning and Linear Probing"
      ]
    },
    {
      "cell_type": "code",
      "execution_count": 6,
      "metadata": {
        "colab": {
          "base_uri": "https://localhost:8080/"
        },
        "id": "ENkMOlB31mxn",
        "outputId": "632a3080-2917-4c16-d70a-63f0f1256ff1"
      },
      "outputs": [
        {
          "data": {
            "text/html": [
              "<pre style=\"white-space:pre;overflow-x:auto;line-height:normal;font-family:Menlo,'DejaVu Sans Mono',consolas,'Courier New',monospace\"><span style=\"font-weight: bold\">Model: \"sequential_1\"</span>\n",
              "</pre>\n"
            ],
            "text/plain": [
              "\u001b[1mModel: \"sequential_1\"\u001b[0m\n"
            ]
          },
          "metadata": {},
          "output_type": "display_data"
        },
        {
          "data": {
            "text/html": [
              "<pre style=\"white-space:pre;overflow-x:auto;line-height:normal;font-family:Menlo,'DejaVu Sans Mono',consolas,'Courier New',monospace\">┏━━━━━━━━━━━━━━━━━━━━━━━━━━━━━━━━━┳━━━━━━━━━━━━━━━━━━━━━━━━┳━━━━━━━━━━━━━━━┓\n",
              "┃<span style=\"font-weight: bold\"> Layer (type)                    </span>┃<span style=\"font-weight: bold\"> Output Shape           </span>┃<span style=\"font-weight: bold\">       Param # </span>┃\n",
              "┡━━━━━━━━━━━━━━━━━━━━━━━━━━━━━━━━━╇━━━━━━━━━━━━━━━━━━━━━━━━╇━━━━━━━━━━━━━━━┩\n",
              "│ efficientnetb0 (<span style=\"color: #0087ff; text-decoration-color: #0087ff\">Functional</span>)     │ ?                      │     <span style=\"color: #00af00; text-decoration-color: #00af00\">4,049,571</span> │\n",
              "├─────────────────────────────────┼────────────────────────┼───────────────┤\n",
              "│ dense (<span style=\"color: #0087ff; text-decoration-color: #0087ff\">Dense</span>)                   │ ?                      │   <span style=\"color: #00af00; text-decoration-color: #00af00\">0</span> (unbuilt) │\n",
              "└─────────────────────────────────┴────────────────────────┴───────────────┘\n",
              "</pre>\n"
            ],
            "text/plain": [
              "┏━━━━━━━━━━━━━━━━━━━━━━━━━━━━━━━━━┳━━━━━━━━━━━━━━━━━━━━━━━━┳━━━━━━━━━━━━━━━┓\n",
              "┃\u001b[1m \u001b[0m\u001b[1mLayer (type)                   \u001b[0m\u001b[1m \u001b[0m┃\u001b[1m \u001b[0m\u001b[1mOutput Shape          \u001b[0m\u001b[1m \u001b[0m┃\u001b[1m \u001b[0m\u001b[1m      Param #\u001b[0m\u001b[1m \u001b[0m┃\n",
              "┡━━━━━━━━━━━━━━━━━━━━━━━━━━━━━━━━━╇━━━━━━━━━━━━━━━━━━━━━━━━╇━━━━━━━━━━━━━━━┩\n",
              "│ efficientnetb0 (\u001b[38;5;33mFunctional\u001b[0m)     │ ?                      │     \u001b[38;5;34m4,049,571\u001b[0m │\n",
              "├─────────────────────────────────┼────────────────────────┼───────────────┤\n",
              "│ dense (\u001b[38;5;33mDense\u001b[0m)                   │ ?                      │   \u001b[38;5;34m0\u001b[0m (unbuilt) │\n",
              "└─────────────────────────────────┴────────────────────────┴───────────────┘\n"
            ]
          },
          "metadata": {},
          "output_type": "display_data"
        },
        {
          "data": {
            "text/html": [
              "<pre style=\"white-space:pre;overflow-x:auto;line-height:normal;font-family:Menlo,'DejaVu Sans Mono',consolas,'Courier New',monospace\"><span style=\"font-weight: bold\"> Total params: </span><span style=\"color: #00af00; text-decoration-color: #00af00\">4,049,571</span> (15.45 MB)\n",
              "</pre>\n"
            ],
            "text/plain": [
              "\u001b[1m Total params: \u001b[0m\u001b[38;5;34m4,049,571\u001b[0m (15.45 MB)\n"
            ]
          },
          "metadata": {},
          "output_type": "display_data"
        },
        {
          "data": {
            "text/html": [
              "<pre style=\"white-space:pre;overflow-x:auto;line-height:normal;font-family:Menlo,'DejaVu Sans Mono',consolas,'Courier New',monospace\"><span style=\"font-weight: bold\"> Trainable params: </span><span style=\"color: #00af00; text-decoration-color: #00af00\">0</span> (0.00 B)\n",
              "</pre>\n"
            ],
            "text/plain": [
              "\u001b[1m Trainable params: \u001b[0m\u001b[38;5;34m0\u001b[0m (0.00 B)\n"
            ]
          },
          "metadata": {},
          "output_type": "display_data"
        },
        {
          "data": {
            "text/html": [
              "<pre style=\"white-space:pre;overflow-x:auto;line-height:normal;font-family:Menlo,'DejaVu Sans Mono',consolas,'Courier New',monospace\"><span style=\"font-weight: bold\"> Non-trainable params: </span><span style=\"color: #00af00; text-decoration-color: #00af00\">4,049,571</span> (15.45 MB)\n",
              "</pre>\n"
            ],
            "text/plain": [
              "\u001b[1m Non-trainable params: \u001b[0m\u001b[38;5;34m4,049,571\u001b[0m (15.45 MB)\n"
            ]
          },
          "metadata": {},
          "output_type": "display_data"
        }
      ],
      "source": [
        "# Model definition\n",
        "model_base = EfficientNetB0(\n",
        "    include_top=False,\n",
        "    weights='imagenet',\n",
        "    input_shape=CIFAR_IMG_SHAPE,\n",
        "    input_tensor = upscale,\n",
        "    pooling='max'\n",
        ")\n",
        "\n",
        "model = keras.models.Sequential([\n",
        "    model_base,\n",
        "    layerout\n",
        "])\n",
        "\n",
        "model.compile(\n",
        "    optimizer=keras.optimizers.Adam(),\n",
        "    loss=keras.losses.CategoricalCrossentropy(),\n",
        "    metrics=[\"accuracy\"]\n",
        ")\n",
        "\n",
        "model_base.trainable = False\n",
        "\n",
        "model.compile(\n",
        "    optimizer=keras.optimizers.Adam(),\n",
        "    loss=keras.losses.CategoricalCrossentropy(),\n",
        "    metrics=[\"accuracy\"]\n",
        ")\n",
        "\n",
        "model.summary()"
      ]
    },
    {
      "cell_type": "code",
      "execution_count": 7,
      "metadata": {
        "colab": {
          "base_uri": "https://localhost:8080/"
        },
        "id": "vsseUSQI2-SV",
        "outputId": "c00dab64-990e-4dff-8b09-593ce546fc1c"
      },
      "outputs": [
        {
          "name": "stdout",
          "output_type": "stream",
          "text": [
            "Epoch 1/3\n"
          ]
        },
        {
          "name": "stderr",
          "output_type": "stream",
          "text": [
            "WARNING: All log messages before absl::InitializeLog() is called are written to STDERR\n",
            "I0000 00:00:1710661311.961490   15693 service.cc:145] XLA service 0x7f7314001df0 initialized for platform CUDA (this does not guarantee that XLA will be used). Devices:\n",
            "I0000 00:00:1710661311.961523   15693 service.cc:153]   StreamExecutor device (0): NVIDIA GeForce GTX 1660, Compute Capability 7.5\n",
            "2024-03-17 07:41:52.250261: I tensorflow/compiler/mlir/tensorflow/utils/dump_mlir_util.cc:268] disabling MLIR crash reproducer, set env var `MLIR_CRASH_REPRODUCER_DIRECTORY` to enable.\n",
            "W0000 00:00:1710661312.345938   15693 assert_op.cc:38] Ignoring Assert operator sequential_1_1/efficientnetb0_1/lambda_1/resize_image_with_pad/pad_to_bounding_box/Assert/Assert\n",
            "W0000 00:00:1710661312.346117   15693 assert_op.cc:38] Ignoring Assert operator sequential_1_1/efficientnetb0_1/lambda_1/resize_image_with_pad/pad_to_bounding_box/Assert_1/Assert\n",
            "W0000 00:00:1710661312.346199   15693 assert_op.cc:38] Ignoring Assert operator sequential_1_1/efficientnetb0_1/lambda_1/resize_image_with_pad/pad_to_bounding_box/Assert_2/Assert\n",
            "W0000 00:00:1710661312.346281   15693 assert_op.cc:38] Ignoring Assert operator sequential_1_1/efficientnetb0_1/lambda_1/resize_image_with_pad/pad_to_bounding_box/Assert_3/Assert\n",
            "2024-03-17 07:41:53.204033: I external/local_xla/xla/stream_executor/cuda/cuda_dnn.cc:465] Loaded cuDNN version 8906\n"
          ]
        },
        {
          "name": "stdout",
          "output_type": "stream",
          "text": [
            "\u001b[1m  2/743\u001b[0m \u001b[37m━━━━━━━━━━━━━━━━━━━━\u001b[0m \u001b[1m57s\u001b[0m 78ms/step - accuracy: 0.1172 - loss: 5.6806   "
          ]
        },
        {
          "name": "stderr",
          "output_type": "stream",
          "text": [
            "I0000 00:00:1710661332.848092   15693 device_compiler.h:188] Compiled cluster using XLA!  This line is logged at most once for the lifetime of the process.\n"
          ]
        },
        {
          "name": "stdout",
          "output_type": "stream",
          "text": [
            "\u001b[1m742/743\u001b[0m \u001b[32m━━━━━━━━━━━━━━━━━━━\u001b[0m\u001b[37m━\u001b[0m \u001b[1m0s\u001b[0m 72ms/step - accuracy: 0.6385 - loss: 1.3471"
          ]
        },
        {
          "name": "stderr",
          "output_type": "stream",
          "text": [
            "W0000 00:00:1710661386.207062   15690 assert_op.cc:38] Ignoring Assert operator sequential_1_1/efficientnetb0_1/lambda_1/resize_image_with_pad/pad_to_bounding_box/Assert/Assert\n",
            "W0000 00:00:1710661386.207103   15690 assert_op.cc:38] Ignoring Assert operator sequential_1_1/efficientnetb0_1/lambda_1/resize_image_with_pad/pad_to_bounding_box/Assert_1/Assert\n",
            "W0000 00:00:1710661386.207115   15690 assert_op.cc:38] Ignoring Assert operator sequential_1_1/efficientnetb0_1/lambda_1/resize_image_with_pad/pad_to_bounding_box/Assert_2/Assert\n",
            "W0000 00:00:1710661386.207127   15690 assert_op.cc:38] Ignoring Assert operator sequential_1_1/efficientnetb0_1/lambda_1/resize_image_with_pad/pad_to_bounding_box/Assert_3/Assert\n"
          ]
        },
        {
          "name": "stdout",
          "output_type": "stream",
          "text": [
            "\u001b[1m743/743\u001b[0m \u001b[32m━━━━━━━━━━━━━━━━━━━━\u001b[0m\u001b[37m\u001b[0m \u001b[1m0s\u001b[0m 91ms/step - accuracy: 0.6386 - loss: 1.3465"
          ]
        },
        {
          "name": "stderr",
          "output_type": "stream",
          "text": [
            "W0000 00:00:1710661402.076733   15690 assert_op.cc:38] Ignoring Assert operator sequential_1_1/efficientnetb0_1/lambda_1/resize_image_with_pad/pad_to_bounding_box/Assert/Assert\n",
            "W0000 00:00:1710661402.077083   15690 assert_op.cc:38] Ignoring Assert operator sequential_1_1/efficientnetb0_1/lambda_1/resize_image_with_pad/pad_to_bounding_box/Assert_1/Assert\n",
            "W0000 00:00:1710661402.077312   15690 assert_op.cc:38] Ignoring Assert operator sequential_1_1/efficientnetb0_1/lambda_1/resize_image_with_pad/pad_to_bounding_box/Assert_2/Assert\n",
            "W0000 00:00:1710661402.077446   15690 assert_op.cc:38] Ignoring Assert operator sequential_1_1/efficientnetb0_1/lambda_1/resize_image_with_pad/pad_to_bounding_box/Assert_3/Assert\n",
            "W0000 00:00:1710661406.850340   15693 assert_op.cc:38] Ignoring Assert operator sequential_1_1/efficientnetb0_1/lambda_1/resize_image_with_pad/pad_to_bounding_box/Assert/Assert\n",
            "W0000 00:00:1710661406.850419   15693 assert_op.cc:38] Ignoring Assert operator sequential_1_1/efficientnetb0_1/lambda_1/resize_image_with_pad/pad_to_bounding_box/Assert_1/Assert\n",
            "W0000 00:00:1710661406.850441   15693 assert_op.cc:38] Ignoring Assert operator sequential_1_1/efficientnetb0_1/lambda_1/resize_image_with_pad/pad_to_bounding_box/Assert_2/Assert\n",
            "W0000 00:00:1710661406.850460   15693 assert_op.cc:38] Ignoring Assert operator sequential_1_1/efficientnetb0_1/lambda_1/resize_image_with_pad/pad_to_bounding_box/Assert_3/Assert\n"
          ]
        },
        {
          "name": "stdout",
          "output_type": "stream",
          "text": [
            "\u001b[1m743/743\u001b[0m \u001b[32m━━━━━━━━━━━━━━━━━━━━\u001b[0m\u001b[37m\u001b[0m \u001b[1m104s\u001b[0m 105ms/step - accuracy: 0.6387 - loss: 1.3459 - val_accuracy: 0.8296 - val_loss: 0.5561\n",
            "Epoch 2/3\n",
            "\u001b[1m743/743\u001b[0m \u001b[32m━━━━━━━━━━━━━━━━━━━━\u001b[0m\u001b[37m\u001b[0m \u001b[1m56s\u001b[0m 76ms/step - accuracy: 0.8100 - loss: 0.5947 - val_accuracy: 0.8412 - val_loss: 0.4922\n",
            "Epoch 3/3\n",
            "\u001b[1m743/743\u001b[0m \u001b[32m━━━━━━━━━━━━━━━━━━━━\u001b[0m\u001b[37m\u001b[0m \u001b[1m56s\u001b[0m 76ms/step - accuracy: 0.8326 - loss: 0.5193 - val_accuracy: 0.8620 - val_loss: 0.4267\n"
          ]
        }
      ],
      "source": [
        "t_start = time.time()\n",
        "\n",
        "history = model.fit(datain_tr, dataout_tr, epochs = 3, batch_size = BATCH_SIZE,\n",
        "                    verbose = 1, shuffle = True, validation_split = 0.05)\n",
        "\n",
        "t_end   = time.time()\n",
        "\n",
        "t_transfer_learning = t_end - t_start"
      ]
    },
    {
      "cell_type": "code",
      "execution_count": 8,
      "metadata": {
        "colab": {
          "base_uri": "https://localhost:8080/"
        },
        "id": "R1d_uxcz3L0t",
        "outputId": "f4639bb2-b0da-4b50-ad0a-3a63b3795220"
      },
      "outputs": [
        {
          "data": {
            "text/html": [
              "<pre style=\"white-space:pre;overflow-x:auto;line-height:normal;font-family:Menlo,'DejaVu Sans Mono',consolas,'Courier New',monospace\"><span style=\"font-weight: bold\">Model: \"sequential_1\"</span>\n",
              "</pre>\n"
            ],
            "text/plain": [
              "\u001b[1mModel: \"sequential_1\"\u001b[0m\n"
            ]
          },
          "metadata": {},
          "output_type": "display_data"
        },
        {
          "data": {
            "text/html": [
              "<pre style=\"white-space:pre;overflow-x:auto;line-height:normal;font-family:Menlo,'DejaVu Sans Mono',consolas,'Courier New',monospace\">┏━━━━━━━━━━━━━━━━━━━━━━━━━━━━━━━━━┳━━━━━━━━━━━━━━━━━━━━━━━━┳━━━━━━━━━━━━━━━┓\n",
              "┃<span style=\"font-weight: bold\"> Layer (type)                    </span>┃<span style=\"font-weight: bold\"> Output Shape           </span>┃<span style=\"font-weight: bold\">       Param # </span>┃\n",
              "┡━━━━━━━━━━━━━━━━━━━━━━━━━━━━━━━━━╇━━━━━━━━━━━━━━━━━━━━━━━━╇━━━━━━━━━━━━━━━┩\n",
              "│ efficientnetb0 (<span style=\"color: #0087ff; text-decoration-color: #0087ff\">Functional</span>)     │ (<span style=\"color: #00d7ff; text-decoration-color: #00d7ff\">None</span>, <span style=\"color: #00af00; text-decoration-color: #00af00\">1280</span>)           │     <span style=\"color: #00af00; text-decoration-color: #00af00\">4,049,571</span> │\n",
              "├─────────────────────────────────┼────────────────────────┼───────────────┤\n",
              "│ dense (<span style=\"color: #0087ff; text-decoration-color: #0087ff\">Dense</span>)                   │ (<span style=\"color: #00d7ff; text-decoration-color: #00d7ff\">None</span>, <span style=\"color: #00af00; text-decoration-color: #00af00\">10</span>)             │        <span style=\"color: #00af00; text-decoration-color: #00af00\">12,810</span> │\n",
              "└─────────────────────────────────┴────────────────────────┴───────────────┘\n",
              "</pre>\n"
            ],
            "text/plain": [
              "┏━━━━━━━━━━━━━━━━━━━━━━━━━━━━━━━━━┳━━━━━━━━━━━━━━━━━━━━━━━━┳━━━━━━━━━━━━━━━┓\n",
              "┃\u001b[1m \u001b[0m\u001b[1mLayer (type)                   \u001b[0m\u001b[1m \u001b[0m┃\u001b[1m \u001b[0m\u001b[1mOutput Shape          \u001b[0m\u001b[1m \u001b[0m┃\u001b[1m \u001b[0m\u001b[1m      Param #\u001b[0m\u001b[1m \u001b[0m┃\n",
              "┡━━━━━━━━━━━━━━━━━━━━━━━━━━━━━━━━━╇━━━━━━━━━━━━━━━━━━━━━━━━╇━━━━━━━━━━━━━━━┩\n",
              "│ efficientnetb0 (\u001b[38;5;33mFunctional\u001b[0m)     │ (\u001b[38;5;45mNone\u001b[0m, \u001b[38;5;34m1280\u001b[0m)           │     \u001b[38;5;34m4,049,571\u001b[0m │\n",
              "├─────────────────────────────────┼────────────────────────┼───────────────┤\n",
              "│ dense (\u001b[38;5;33mDense\u001b[0m)                   │ (\u001b[38;5;45mNone\u001b[0m, \u001b[38;5;34m10\u001b[0m)             │        \u001b[38;5;34m12,810\u001b[0m │\n",
              "└─────────────────────────────────┴────────────────────────┴───────────────┘\n"
            ]
          },
          "metadata": {},
          "output_type": "display_data"
        },
        {
          "data": {
            "text/html": [
              "<pre style=\"white-space:pre;overflow-x:auto;line-height:normal;font-family:Menlo,'DejaVu Sans Mono',consolas,'Courier New',monospace\"><span style=\"font-weight: bold\"> Total params: </span><span style=\"color: #00af00; text-decoration-color: #00af00\">4,062,381</span> (15.50 MB)\n",
              "</pre>\n"
            ],
            "text/plain": [
              "\u001b[1m Total params: \u001b[0m\u001b[38;5;34m4,062,381\u001b[0m (15.50 MB)\n"
            ]
          },
          "metadata": {},
          "output_type": "display_data"
        },
        {
          "data": {
            "text/html": [
              "<pre style=\"white-space:pre;overflow-x:auto;line-height:normal;font-family:Menlo,'DejaVu Sans Mono',consolas,'Courier New',monospace\"><span style=\"font-weight: bold\"> Trainable params: </span><span style=\"color: #00af00; text-decoration-color: #00af00\">4,020,358</span> (15.34 MB)\n",
              "</pre>\n"
            ],
            "text/plain": [
              "\u001b[1m Trainable params: \u001b[0m\u001b[38;5;34m4,020,358\u001b[0m (15.34 MB)\n"
            ]
          },
          "metadata": {},
          "output_type": "display_data"
        },
        {
          "data": {
            "text/html": [
              "<pre style=\"white-space:pre;overflow-x:auto;line-height:normal;font-family:Menlo,'DejaVu Sans Mono',consolas,'Courier New',monospace\"><span style=\"font-weight: bold\"> Non-trainable params: </span><span style=\"color: #00af00; text-decoration-color: #00af00\">42,023</span> (164.16 KB)\n",
              "</pre>\n"
            ],
            "text/plain": [
              "\u001b[1m Non-trainable params: \u001b[0m\u001b[38;5;34m42,023\u001b[0m (164.16 KB)\n"
            ]
          },
          "metadata": {},
          "output_type": "display_data"
        }
      ],
      "source": [
        "model_base.trainable = True\n",
        "\n",
        "model.compile(\n",
        "    optimizer=keras.optimizers.Adam(),\n",
        "    loss=keras.losses.CategoricalCrossentropy(),\n",
        "    metrics=[\"accuracy\"]\n",
        ")\n",
        "\n",
        "model.summary()"
      ]
    },
    {
      "cell_type": "code",
      "execution_count": 9,
      "metadata": {
        "colab": {
          "base_uri": "https://localhost:8080/"
        },
        "id": "nl30rj8J4ddm",
        "outputId": "4633c56c-fdea-4c91-f43d-8e1653f7ead1"
      },
      "outputs": [
        {
          "name": "stdout",
          "output_type": "stream",
          "text": [
            "Epoch 1/2\n"
          ]
        },
        {
          "name": "stderr",
          "output_type": "stream",
          "text": [
            "W0000 00:00:1710661545.146961   15691 assert_op.cc:38] Ignoring Assert operator sequential_1_1/efficientnetb0_1/lambda_1/resize_image_with_pad/pad_to_bounding_box/Assert/Assert\n",
            "W0000 00:00:1710661545.147149   15691 assert_op.cc:38] Ignoring Assert operator sequential_1_1/efficientnetb0_1/lambda_1/resize_image_with_pad/pad_to_bounding_box/Assert_1/Assert\n",
            "W0000 00:00:1710661545.147420   15691 assert_op.cc:38] Ignoring Assert operator sequential_1_1/efficientnetb0_1/lambda_1/resize_image_with_pad/pad_to_bounding_box/Assert_2/Assert\n",
            "W0000 00:00:1710661545.147493   15691 assert_op.cc:38] Ignoring Assert operator sequential_1_1/efficientnetb0_1/lambda_1/resize_image_with_pad/pad_to_bounding_box/Assert_3/Assert\n",
            "2024-03-17 07:46:00.658701: E external/local_xla/xla/service/slow_operation_alarm.cc:65] Trying algorithm eng3{k11=2} for conv (f32[64,96,113,113]{3,2,1,0}, u8[0]{0}) custom-call(f32[64,96,115,115]{3,2,1,0}, f32[96,1,3,3]{3,2,1,0}), window={size=3x3}, dim_labels=bf01_oi01->bf01, feature_group_count=96, custom_call_target=\"__cudnn$convForward\", backend_config={\"operation_queue_id\":\"0\",\"wait_on_operation_queues\":[],\"cudnn_conv_backend_config\":{\"conv_result_scale\":1,\"activation_mode\":\"kNone\",\"side_input_scale\":0,\"leakyrelu_alpha\":0}} is taking a while...\n",
            "2024-03-17 07:46:00.727892: E external/local_xla/xla/service/slow_operation_alarm.cc:133] The operation took 1.069277605s\n",
            "Trying algorithm eng3{k11=2} for conv (f32[64,96,113,113]{3,2,1,0}, u8[0]{0}) custom-call(f32[64,96,115,115]{3,2,1,0}, f32[96,1,3,3]{3,2,1,0}), window={size=3x3}, dim_labels=bf01_oi01->bf01, feature_group_count=96, custom_call_target=\"__cudnn$convForward\", backend_config={\"operation_queue_id\":\"0\",\"wait_on_operation_queues\":[],\"cudnn_conv_backend_config\":{\"conv_result_scale\":1,\"activation_mode\":\"kNone\",\"side_input_scale\":0,\"leakyrelu_alpha\":0}} is taking a while...\n",
            "2024-03-17 07:46:01.728029: E external/local_xla/xla/service/slow_operation_alarm.cc:65] Trying algorithm eng4{} for conv (f32[64,96,113,113]{3,2,1,0}, u8[0]{0}) custom-call(f32[64,96,115,115]{3,2,1,0}, f32[96,1,3,3]{3,2,1,0}), window={size=3x3}, dim_labels=bf01_oi01->bf01, feature_group_count=96, custom_call_target=\"__cudnn$convForward\", backend_config={\"operation_queue_id\":\"0\",\"wait_on_operation_queues\":[],\"cudnn_conv_backend_config\":{\"conv_result_scale\":1,\"activation_mode\":\"kNone\",\"side_input_scale\":0,\"leakyrelu_alpha\":0}} is taking a while...\n",
            "2024-03-17 07:46:01.746945: E external/local_xla/xla/service/slow_operation_alarm.cc:133] The operation took 1.018990836s\n",
            "Trying algorithm eng4{} for conv (f32[64,96,113,113]{3,2,1,0}, u8[0]{0}) custom-call(f32[64,96,115,115]{3,2,1,0}, f32[96,1,3,3]{3,2,1,0}), window={size=3x3}, dim_labels=bf01_oi01->bf01, feature_group_count=96, custom_call_target=\"__cudnn$convForward\", backend_config={\"operation_queue_id\":\"0\",\"wait_on_operation_queues\":[],\"cudnn_conv_backend_config\":{\"conv_result_scale\":1,\"activation_mode\":\"kNone\",\"side_input_scale\":0,\"leakyrelu_alpha\":0}} is taking a while...\n"
          ]
        },
        {
          "name": "stdout",
          "output_type": "stream",
          "text": [
            "\u001b[1m743/743\u001b[0m \u001b[32m━━━━━━━━━━━━━━━━━━━━\u001b[0m\u001b[37m\u001b[0m \u001b[1m329s\u001b[0m 356ms/step - accuracy: 0.8245 - loss: 0.7252 - val_accuracy: 0.9284 - val_loss: 0.2159\n",
            "Epoch 2/2\n",
            "\u001b[1m743/743\u001b[0m \u001b[32m━━━━━━━━━━━━━━━━━━━━\u001b[0m\u001b[37m\u001b[0m \u001b[1m226s\u001b[0m 304ms/step - accuracy: 0.9414 - loss: 0.1765 - val_accuracy: 0.9316 - val_loss: 0.2317\n",
            "\n",
            "Fine-tuning training time: 554.78 sec\n"
          ]
        }
      ],
      "source": [
        "t_start = time.time()\n",
        "\n",
        "history = model.fit(datain_tr, dataout_tr, epochs = 2, batch_size = BATCH_SIZE,\n",
        "                    verbose = 1, shuffle = True, validation_split = 0.05)\n",
        "\n",
        "t_end   = time.time()\n",
        "\n",
        "t_fine_tuning = t_end - t_start\n",
        "\n",
        "print('\\nFine-tuning training time: {:06.2f} sec'.format(t_fine_tuning))"
      ]
    },
    {
      "cell_type": "code",
      "execution_count": 10,
      "metadata": {
        "colab": {
          "base_uri": "https://localhost:8080/"
        },
        "id": "90gbvLVL4xMo",
        "outputId": "87c25ac0-a9a0-4deb-b24a-3d26aae563fd"
      },
      "outputs": [
        {
          "name": "stdout",
          "output_type": "stream",
          "text": [
            "\u001b[1m157/157\u001b[0m \u001b[32m━━━━━━━━━━━━━━━━━━━━\u001b[0m\u001b[37m\u001b[0m \u001b[1m16s\u001b[0m 104ms/step - accuracy: 0.9235 - loss: 0.2375\n",
            "\n",
            "Total Training time: 772.58 sec\n",
            "\n",
            "Testing accuracy: 92.71%\n"
          ]
        }
      ],
      "source": [
        "_, accuracy_te = model.evaluate(datain_te,\n",
        "                                dataout_te,\n",
        "                                batch_size = BATCH_SIZE)\n",
        "\n",
        "print('\\nTotal Training time: {:06.2f} sec'.format(t_transfer_learning + t_fine_tuning))\n",
        "print('\\nTesting accuracy: {:05.2f}%'.format(accuracy_te * 100))"
      ]
    },
    {
      "cell_type": "code",
      "execution_count": null,
      "metadata": {
        "id": "_zO94FtN41Vn"
      },
      "outputs": [],
      "source": []
    }
  ],
  "metadata": {
    "accelerator": "GPU",
    "colab": {
      "gpuType": "T4",
      "provenance": []
    },
    "kernelspec": {
      "display_name": "Python 3",
      "name": "python3"
    },
    "language_info": {
      "codemirror_mode": {
        "name": "ipython",
        "version": 3
      },
      "file_extension": ".py",
      "mimetype": "text/x-python",
      "name": "python",
      "nbconvert_exporter": "python",
      "pygments_lexer": "ipython3",
      "version": "3.11.0"
    }
  },
  "nbformat": 4,
  "nbformat_minor": 0
}
